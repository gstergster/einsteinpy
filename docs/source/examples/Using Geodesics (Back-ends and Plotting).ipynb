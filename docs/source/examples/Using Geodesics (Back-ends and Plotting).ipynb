#BLANK Github doesn't like this 
